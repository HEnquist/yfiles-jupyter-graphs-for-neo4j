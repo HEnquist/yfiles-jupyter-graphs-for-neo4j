{
 "cells": [
  {
   "cell_type": "code",
   "execution_count": null,
   "id": "879409d1-37c2-4ab2-80ae-deb4d7dc8412",
   "metadata": {},
   "outputs": [],
   "source": [
    "%pip install yfiles_jupyter_graphs_for_neo4j --quiet\n",
    "from yfiles_jupyter_graphs_for_neo4j.Yfiles_Neo4j_Graphs import YfilesNeo4jGraphs\n",
    "from neo4j import GraphDatabase"
   ]
  },
  {
   "cell_type": "code",
   "execution_count": null,
   "id": "53b5f2b5-0279-40d9-9434-c888f4e85924",
   "metadata": {},
   "outputs": [],
   "source": [
    "NEO4J_URI      = \"neo4j+ssc://demo.neo4jlabs.com\" \n",
    "NEO4J_USERNAME = \"movies\"\n",
    "NEO4J_PASSWORD = \"movies\"\n",
    "driver = GraphDatabase.driver(uri = NEO4J_URI, auth = (NEO4J_USERNAME, NEO4J_PASSWORD), database = 'movies')\n",
    "\n",
    "g = YfilesNeo4jGraphs(driver)\n",
    "g.add_node_configuration('Person') \n",
    "g.add_node_configuration('Movie', textbinding='title') \n",
    "g.add_relation_configuration('DIRECTED', textbinding='label', color=\"blue\")\n",
    "#g.show_cypher(\"MATCH (s)-[r]->(t) RETURN s,r,t LIMIT 20\")"
   ]
  },
  {
   "cell_type": "code",
   "execution_count": null,
   "id": "5944949a-c193-478c-adc1-e31d158e5a33",
   "metadata": {},
   "outputs": [],
   "source": [
    "g._edge_configurations"
   ]
  },
  {
   "cell_type": "code",
   "execution_count": null,
   "id": "e7bc9c8a-d32d-4af7-935f-08154753210e",
   "metadata": {},
   "outputs": [],
   "source": [
    "g.show_cypher(\"MATCH (s)-[r]->(t) RETURN s,r,t LIMIT 20\")"
   ]
  },
  {
   "cell_type": "code",
   "execution_count": null,
   "id": "1459f352-7372-46e0-b343-bc4c2d178d6b",
   "metadata": {},
   "outputs": [],
   "source": [
    "g._node_configurations.get('Movie').get('label')"
   ]
  },
  {
   "cell_type": "code",
   "execution_count": null,
   "id": "a3341b3a-c999-40a1-b408-141198ed17dd",
   "metadata": {},
   "outputs": [],
   "source": []
  }
 ],
 "metadata": {
  "kernelspec": {
   "display_name": "Python 3 (ipykernel)",
   "language": "python",
   "name": "python3"
  },
  "language_info": {
   "codemirror_mode": {
    "name": "ipython",
    "version": 3
   },
   "file_extension": ".py",
   "mimetype": "text/x-python",
   "name": "python",
   "nbconvert_exporter": "python",
   "pygments_lexer": "ipython3",
   "version": "3.12.2"
  }
 },
 "nbformat": 4,
 "nbformat_minor": 5
}
