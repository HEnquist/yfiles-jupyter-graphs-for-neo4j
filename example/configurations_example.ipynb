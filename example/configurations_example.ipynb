{
 "cells": [
  {
   "cell_type": "code",
   "execution_count": 1,
   "id": "8891bd52-e89c-46ba-a236-7a8ffee9b3da",
   "metadata": {},
   "outputs": [
    {
     "name": "stdout",
     "output_type": "stream",
     "text": [
      "Note: you may need to restart the kernel to use updated packages.\n"
     ]
    }
   ],
   "source": [
    "%pip install yfiles_jupyter_graphs_for_neo4j --quiet\n",
    "from yfiles_jupyter_graphs_for_neo4j.Yfiles_Neo4j_Graphs import YfilesNeo4jGraphs\n",
    "from neo4j import GraphDatabase\n",
    "from datetime import datetime\n",
    "\n",
    "NEO4J_URI      = \"neo4j+ssc://demo.neo4jlabs.com\" \n",
    "NEO4J_USERNAME = \"movies\"\n",
    "NEO4J_PASSWORD = \"movies\"\n",
    "driver = GraphDatabase.driver(uri = NEO4J_URI, auth = (NEO4J_USERNAME, NEO4J_PASSWORD), database = 'movies')\n",
    "\n",
    "g = YfilesNeo4jGraphs(driver)"
   ]
  },
  {
   "cell_type": "markdown",
   "id": "1ac1f749-f180-4870-955b-ea397879e6ce",
   "metadata": {},
   "source": [
    "For nodes there are three configurable values: ```textbinding, color, size, type, style```\n",
    "\n",
    "For edges there are also three configurable values: ```textbinding, color, thickness```\n",
    "\n",
    "When adding a configuration, you always need to specify the type of node or edge you want to adjust. (Here 'Person' or 'DIRECTED'),\n",
    "additionanlly you can define the new values. For that you can either use:\n",
    "- a function returning a value\n",
    "- a constant value\n",
    "- a property"
   ]
  },
  {
   "cell_type": "code",
   "execution_count": 2,
   "id": "af00a09e-9842-4dcd-b296-fe0f01ba09e4",
   "metadata": {},
   "outputs": [],
   "source": [
    "g.add_node_configuration('Person', size=(70,70)) \n",
    "g.add_node_configuration('Movie', text= lambda node : {\n",
    "        'text': datetime.now().strftime(\"%Y-%m-%d %H:%M:%S\"), \n",
    "        'backgroundColor': '#5C268B', \n",
    "        'fontSize': 20, \n",
    "        'color': '#FF6EC7', \n",
    "        'position': 'north', \n",
    "        'maximumWidth': 130, \n",
    "        'wrapping': 'word', \n",
    "        'textAlignment': 'center'\n",
    "    })  \n",
    "g.add_relationship_configuration('DIRECTED', text='label', color=\"blue\")\n",
    "g.add_relationship_configuration('PRODUCED', text = lambda edge: 'produced', color= lambda edge: '#F9ACAF')\n",
    "g.add_relationship_configuration('ACTED_IN', thickness=2, color= lambda edge :'#F9ACAB') "
   ]
  },
  {
   "cell_type": "code",
   "execution_count": 3,
   "id": "514823d3-b3a4-4d5e-a48f-97058110ea4e",
   "metadata": {},
   "outputs": [
    {
     "data": {
      "application/vnd.jupyter.widget-view+json": {
       "model_id": "9a9533dfcd3e4cac914e4de4e4ac6b9c",
       "version_major": 2,
       "version_minor": 0
      },
      "text/plain": [
       "GraphWidget(layout=Layout(height='610px', width='100%'))"
      ]
     },
     "metadata": {},
     "output_type": "display_data"
    }
   ],
   "source": [
    "g.show_cypher(\"MATCH (s)-[r]->(t) RETURN s,r,t LIMIT 20\")"
   ]
  },
  {
   "cell_type": "code",
   "execution_count": null,
   "id": "9d08b3b7-1de1-4a42-bccd-606f15f27fe5",
   "metadata": {},
   "outputs": [],
   "source": []
  },
  {
   "cell_type": "code",
   "execution_count": null,
   "id": "662f840e-e91a-4166-bb2d-ffeca6f63741",
   "metadata": {},
   "outputs": [],
   "source": []
  }
 ],
 "metadata": {
  "kernelspec": {
   "display_name": "Python 3 (ipykernel)",
   "language": "python",
   "name": "python3"
  },
  "language_info": {
   "codemirror_mode": {
    "name": "ipython",
    "version": 3
   },
   "file_extension": ".py",
   "mimetype": "text/x-python",
   "name": "python",
   "nbconvert_exporter": "python",
   "pygments_lexer": "ipython3",
   "version": "3.12.2"
  }
 },
 "nbformat": 4,
 "nbformat_minor": 5
}
