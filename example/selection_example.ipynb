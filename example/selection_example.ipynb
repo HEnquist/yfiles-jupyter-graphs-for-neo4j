{
 "cells": [
  {
   "cell_type": "code",
   "execution_count": null,
   "id": "7e709b40-0119-498d-879f-cc324b992320",
   "metadata": {},
   "outputs": [],
   "source": [
    "%pip install yfiles_jupyter_graphs_for_neo4j --quiet\n",
    "from yfiles_jupyter_graphs_for_neo4j.Yfiles_Neo4j_Graphs import YfilesNeo4jGraphs\n",
    "from neo4j import GraphDatabase\n",
    "\n",
    "NEO4J_URI      = \"neo4j+ssc://demo.neo4jlabs.com\" \n",
    "NEO4J_USERNAME = \"movies\"\n",
    "NEO4J_PASSWORD = \"movies\"\n",
    "driver = GraphDatabase.driver(uri = NEO4J_URI, auth = (NEO4J_USERNAME, NEO4J_PASSWORD), database = 'movies')\n",
    "\n",
    "g = YfilesNeo4jGraphs(driver)"
   ]
  },
  {
   "cell_type": "markdown",
   "id": "cf79e4f2-7a6b-4197-9f94-902f38c303bd",
   "metadata": {},
   "source": [
    "Select your nodes in the following diagram:"
   ]
  },
  {
   "cell_type": "code",
   "execution_count": null,
   "id": "a4c2eac8-3547-4db8-b72d-c0a0ed987b4b",
   "metadata": {},
   "outputs": [],
   "source": [
    "g.show_cypher(\"MATCH (s)-[r]->(t) RETURN s,r,t LIMIT 20\")"
   ]
  },
  {
   "cell_type": "code",
   "execution_count": null,
   "id": "063cb286-4c31-4895-a51e-6ab0f59b8925",
   "metadata": {},
   "outputs": [],
   "source": [
    "widget = g._widget"
   ]
  },
  {
   "cell_type": "markdown",
   "id": "8725e3b8-9d09-40a3-b728-fecb962a6aa4",
   "metadata": {},
   "source": [
    "Recompile this jupyter cell to update your ids with your selection:"
   ]
  },
  {
   "cell_type": "code",
   "execution_count": null,
   "id": "4f56b914-4ad5-4cfe-ad9b-f8785a86c561",
   "metadata": {},
   "outputs": [],
   "source": [
    "ids = g.get_selected_node_ids(widget)"
   ]
  },
  {
   "cell_type": "markdown",
   "id": "d6263574-7dfc-4977-95ed-e66677ceeb8c",
   "metadata": {},
   "source": [
    "Now you should only have nodes s that you selected after recompiling this cell.\n",
    "\n",
    "Make sure not to restart the whole notebook as your selection is being reset as well."
   ]
  },
  {
   "cell_type": "code",
   "execution_count": null,
   "id": "f4e0de71-069d-4a74-98c1-3e100cdd05ed",
   "metadata": {},
   "outputs": [],
   "source": [
    "g.show_cypher(\"MATCH (s)-[r]->(t) WHERE ID(s) IN $ids RETURN s,r,t LIMIT 20\", ids=ids)"
   ]
  }
 ],
 "metadata": {
  "kernelspec": {
   "display_name": "Python 3 (ipykernel)",
   "language": "python",
   "name": "python3"
  },
  "language_info": {
   "codemirror_mode": {
    "name": "ipython",
    "version": 3
   },
   "file_extension": ".py",
   "mimetype": "text/x-python",
   "name": "python",
   "nbconvert_exporter": "python",
   "pygments_lexer": "ipython3",
   "version": "3.12.2"
  }
 },
 "nbformat": 4,
 "nbformat_minor": 5
}
