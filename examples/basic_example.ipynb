{
 "cells": [
  {
   "cell_type": "markdown",
   "id": "58495ba6-70f8-4a34-b849-70f378cf7a58",
   "metadata": {},
   "source": [
    "# Basic Usage <a target=\"_blank\" href=\"https://colab.research.google.com/github/yWorks/yfiles-jupyter-graphs-for-neo4j/blob/main/examples/basic_example.ipynb\"><img src=\"https://colab.research.google.com/assets/colab-badge.svg\" alt=\"Open In Colab\"/></a>"
   ]
  },
  {
   "cell_type": "code",
   "execution_count": null,
   "id": "879409d1-37c2-4ab2-80ae-deb4d7dc8412",
   "metadata": {},
   "outputs": [],
   "source": [
    "%pip install yfiles_jupyter_graphs_for_neo4j --quiet\n",
    "%pip install neo4j --quiet\n",
    "from yfiles_jupyter_graphs_for_neo4j import Neo4jGraphWidget\n",
    "from neo4j import GraphDatabase"
   ]
  },
  {
   "cell_type": "markdown",
   "id": "b8a1fc4a-e8ef-4346-abcd-9fb99aa62429",
   "metadata": {},
   "source": [
    "You can also open this notebook in Google Colab when Google Colab's custom widget manager is enabled:"
   ]
  },
  {
   "cell_type": "code",
   "execution_count": null,
   "id": "08c37cdc-b2f4-498f-8e24-d87cc9547048",
   "metadata": {},
   "outputs": [],
   "source": [
    "try:\n",
    "  import google.colab\n",
    "  from google.colab import output\n",
    "  output.enable_custom_widget_manager()\n",
    "except:\n",
    "  pass"
   ]
  },
  {
   "cell_type": "markdown",
   "id": "15fdc273-8bf8-4746-82c1-4fea2fc422d5",
   "metadata": {},
   "source": [
    "## Use the Neo4j driver"
   ]
  },
  {
   "cell_type": "code",
   "execution_count": null,
   "id": "53b5f2b5-0279-40d9-9434-c888f4e85924",
   "metadata": {},
   "outputs": [],
   "source": [
    "NEO4J_URI      = \"neo4j+ssc://demo.neo4jlabs.com\" \n",
    "NEO4J_USERNAME = \"movies\"\n",
    "NEO4J_PASSWORD = \"movies\"\n",
    "driver = GraphDatabase.driver(uri = NEO4J_URI, auth = (NEO4J_USERNAME, NEO4J_PASSWORD), database = 'movies')\n",
    "\n",
    "g = Neo4jGraphWidget(driver)"
   ]
  },
  {
   "cell_type": "markdown",
   "id": "8f350852-71ce-49e7-828b-a4285c221d29",
   "metadata": {},
   "source": [
    "## Query the database with Cypher"
   ]
  },
  {
   "cell_type": "code",
   "execution_count": null,
   "id": "e7bc9c8a-d32d-4af7-935f-08154753210e",
   "metadata": {},
   "outputs": [],
   "source": [
    "g.show_cypher(\"MATCH (s)-[r]->(t) RETURN s,r,t LIMIT 10\")"
   ]
  }
 ],
 "metadata": {
  "kernelspec": {
   "display_name": "Python 3 (ipykernel)",
   "language": "python",
   "name": "python3"
  },
  "language_info": {
   "codemirror_mode": {
    "name": "ipython",
    "version": 3
   },
   "file_extension": ".py",
   "mimetype": "text/x-python",
   "name": "python",
   "nbconvert_exporter": "python",
   "pygments_lexer": "ipython3",
   "version": "3.9.19"
  }
 },
 "nbformat": 4,
 "nbformat_minor": 5
}
