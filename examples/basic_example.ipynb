{
 "cells": [
  {
   "cell_type": "code",
   "execution_count": null,
   "id": "879409d1-37c2-4ab2-80ae-deb4d7dc8412",
   "metadata": {},
   "outputs": [],
   "source": [
    "%pip install yfiles_jupyter_graphs_for_neo4j --quiet\n",
    "%pip install neo4j --quiet\n",
    "from yfiles_jupyter_graphs_for_neo4j.Yfiles_Neo4j_Graphs import YfilesNeo4jGraphs\n",
    "from neo4j import GraphDatabase"
   ]
  },
  {
   "cell_type": "code",
   "execution_count": null,
   "id": "53b5f2b5-0279-40d9-9434-c888f4e85924",
   "metadata": {},
   "outputs": [],
   "source": [
    "NEO4J_URI      = \"neo4j+ssc://demo.neo4jlabs.com\" \n",
    "NEO4J_USERNAME = \"movies\"\n",
    "NEO4J_PASSWORD = \"movies\"\n",
    "driver = GraphDatabase.driver(uri = NEO4J_URI, auth = (NEO4J_USERNAME, NEO4J_PASSWORD), database = 'movies')\n",
    "\n",
    "g = YfilesNeo4jGraphs(driver)"
   ]
  },
  {
   "cell_type": "code",
   "execution_count": null,
   "id": "e7bc9c8a-d32d-4af7-935f-08154753210e",
   "metadata": {},
   "outputs": [],
   "source": [
    "g.show_cypher(\"MATCH (s)-[r]->(t) RETURN s,r,t LIMIT 20\")"
   ]
  }
 ],
 "metadata": {
  "kernelspec": {
   "display_name": "Python 3 (ipykernel)",
   "language": "python",
   "name": "python3"
  },
  "language_info": {
   "codemirror_mode": {
    "name": "ipython",
    "version": 3
   },
   "file_extension": ".py",
   "mimetype": "text/x-python",
   "name": "python",
   "nbconvert_exporter": "python",
   "pygments_lexer": "ipython3",
   "version": "3.9.19"
  }
 },
 "nbformat": 4,
 "nbformat_minor": 5
}
