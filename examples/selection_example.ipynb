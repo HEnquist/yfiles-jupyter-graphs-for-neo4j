{
 "cells": [
  {
   "cell_type": "markdown",
   "id": "3e6c94df-2ee0-40ac-a0eb-97ddb6c18556",
   "metadata": {},
   "source": [
    "# Obtain selection from widget <a target=\"_blank\" href=\"https://colab.research.google.com/github/yWorks/yfiles-jupyter-graphs-for-neo4j/blob/main/examples/selection_example.ipynb\"><img src=\"https://colab.research.google.com/assets/colab-badge.svg\" alt=\"Open In Colab\"/></a>"
   ]
  },
  {
   "cell_type": "code",
   "execution_count": null,
   "id": "7e709b40-0119-498d-879f-cc324b992320",
   "metadata": {},
   "outputs": [],
   "source": [
    "%pip install yfiles_jupyter_graphs_for_neo4j --quiet\n",
    "%pip install neo4j --quiet\n",
    "from yfiles_jupyter_graphs_for_neo4j import Neo4jGraphWidget\n",
    "from neo4j import GraphDatabase"
   ]
  },
  {
   "cell_type": "markdown",
   "id": "56afeb89-1e79-4318-a000-67f80e1f4983",
   "metadata": {},
   "source": [
    "You can also open this notebook in Google Colab when Google Colab's custom widget manager is enabled:"
   ]
  },
  {
   "cell_type": "code",
   "execution_count": null,
   "id": "4932f2d4-ad5e-49e8-a9f3-d72a74f21cd4",
   "metadata": {},
   "outputs": [],
   "source": [
    "try:\n",
    "  import google.colab\n",
    "  from google.colab import output\n",
    "  output.enable_custom_widget_manager()\n",
    "except:\n",
    "  pass"
   ]
  },
  {
   "cell_type": "markdown",
   "id": "1e7fcf65-a062-4d84-9888-11793857c4ab",
   "metadata": {},
   "source": [
    "## Connect with Neo4j driver"
   ]
  },
  {
   "cell_type": "code",
   "execution_count": null,
   "id": "6660c53f-3041-4931-919b-18789dcd0667",
   "metadata": {},
   "outputs": [],
   "source": [
    "NEO4J_URI      = \"neo4j+ssc://demo.neo4jlabs.com\" \n",
    "NEO4J_USERNAME = \"movies\"\n",
    "NEO4J_PASSWORD = \"movies\"\n",
    "driver = GraphDatabase.driver(uri = NEO4J_URI, auth = (NEO4J_USERNAME, NEO4J_PASSWORD), database = 'movies')\n",
    "\n",
    "g = Neo4jGraphWidget(driver)"
   ]
  },
  {
   "cell_type": "markdown",
   "id": "cf79e4f2-7a6b-4197-9f94-902f38c303bd",
   "metadata": {},
   "source": [
    "## Query database and interactively select nodes\n",
    "\n",
    "Select your nodes in the following diagram:"
   ]
  },
  {
   "cell_type": "code",
   "execution_count": null,
   "id": "a4c2eac8-3547-4db8-b72d-c0a0ed987b4b",
   "metadata": {},
   "outputs": [],
   "source": [
    "g.show_cypher(\"MATCH (s)-[r]->(t) RETURN s,r,t LIMIT 20\")"
   ]
  },
  {
   "cell_type": "markdown",
   "id": "8725e3b8-9d09-40a3-b728-fecb962a6aa4",
   "metadata": {},
   "source": [
    "## Use interactively selected nodes\n",
    "\n",
    "Recompile the following code cell to update your ids with your selection:"
   ]
  },
  {
   "cell_type": "code",
   "execution_count": null,
   "id": "4f56b914-4ad5-4cfe-ad9b-f8785a86c561",
   "metadata": {},
   "outputs": [],
   "source": [
    "ids = g.get_selected_node_ids()"
   ]
  },
  {
   "cell_type": "markdown",
   "id": "d6263574-7dfc-4977-95ed-e66677ceeb8c",
   "metadata": {},
   "source": [
    "Now, `ids` should contain a list of the currently selected nodes in the widget, otherwise make sure to (click-)select elements in the above diagram and recompile the `get_selected_node_ids()` cell:"
   ]
  },
  {
   "cell_type": "code",
   "execution_count": null,
   "id": "52292a3d-823b-47dd-a105-890f7a636079",
   "metadata": {},
   "outputs": [],
   "source": [
    "print(ids)"
   ]
  },
  {
   "cell_type": "markdown",
   "id": "b7d427c8-a467-4a40-9094-a0fd62894d5f",
   "metadata": {},
   "source": [
    "Make sure not to restart the whole notebook as your selection is being reset as well."
   ]
  },
  {
   "cell_type": "code",
   "execution_count": null,
   "id": "f4e0de71-069d-4a74-98c1-3e100cdd05ed",
   "metadata": {},
   "outputs": [],
   "source": [
    "g.show_cypher(\"MATCH (s)-[r]->(t) WHERE ID(s) IN $ids RETURN s,r,t LIMIT 20\", ids=ids)"
   ]
  }
 ],
 "metadata": {
  "kernelspec": {
   "display_name": "Python 3 (ipykernel)",
   "language": "python",
   "name": "python3"
  },
  "language_info": {
   "codemirror_mode": {
    "name": "ipython",
    "version": 3
   },
   "file_extension": ".py",
   "mimetype": "text/x-python",
   "name": "python",
   "nbconvert_exporter": "python",
   "pygments_lexer": "ipython3",
   "version": "3.9.19"
  }
 },
 "nbformat": 4,
 "nbformat_minor": 5
}
